{
 "cells": [
  {
   "cell_type": "markdown",
   "id": "b249c167",
   "metadata": {},
   "source": [
    "Credits: https://habr.com/ru/post/556042/"
   ]
  },
  {
   "cell_type": "markdown",
   "id": "9a6af65f",
   "metadata": {},
   "source": [
    "##  Обследование данных"
   ]
  },
  {
   "cell_type": "markdown",
   "id": "aa328c2f",
   "metadata": {},
   "source": [
    "Каждая библиотека может быть отдельно включена в собственный исходный код. В целях получения доступа к математико-статистической функциональности, функциям для построения графиков и обработки файлов, в проект программы следует включить следующие строки:"
   ]
  },
  {
   "cell_type": "code",
   "execution_count": 26,
   "id": "1eab7e3d",
   "metadata": {},
   "outputs": [],
   "source": [
    "import scipy as sp\n",
    "from scipy import stats  # модуль статистических функций\n",
    "import pandas as pd\n",
    "import matplotlib.pyplot as plt\n",
    "import numpy as np"
   ]
  },
  {
   "cell_type": "markdown",
   "id": "1baf9858",
   "metadata": {},
   "source": [
    "В качестве источника данных используется файл Excel, поэтому для чтения данных мы воспользуемся функцией read_excel"
   ]
  },
  {
   "cell_type": "code",
   "execution_count": 3,
   "id": "81cf714a",
   "metadata": {},
   "outputs": [
    {
     "data": {
      "text/html": [
       "<div>\n",
       "<style scoped>\n",
       "    .dataframe tbody tr th:only-of-type {\n",
       "        vertical-align: middle;\n",
       "    }\n",
       "\n",
       "    .dataframe tbody tr th {\n",
       "        vertical-align: top;\n",
       "    }\n",
       "\n",
       "    .dataframe thead th {\n",
       "        text-align: right;\n",
       "    }\n",
       "</style>\n",
       "<table border=\"1\" class=\"dataframe\">\n",
       "  <thead>\n",
       "    <tr style=\"text-align: right;\">\n",
       "      <th></th>\n",
       "      <th>Press Association Reference</th>\n",
       "      <th>Constituency Name</th>\n",
       "      <th>Region</th>\n",
       "      <th>Election Year</th>\n",
       "      <th>Electorate</th>\n",
       "      <th>Votes</th>\n",
       "      <th>AC</th>\n",
       "      <th>AD</th>\n",
       "      <th>AGS</th>\n",
       "      <th>APNI</th>\n",
       "      <th>...</th>\n",
       "      <th>UKIP</th>\n",
       "      <th>UPS</th>\n",
       "      <th>UV</th>\n",
       "      <th>VCCA</th>\n",
       "      <th>Vote</th>\n",
       "      <th>Wessex Reg</th>\n",
       "      <th>WRP</th>\n",
       "      <th>You</th>\n",
       "      <th>Youth</th>\n",
       "      <th>YRDPL</th>\n",
       "    </tr>\n",
       "  </thead>\n",
       "  <tbody>\n",
       "    <tr>\n",
       "      <th>646</th>\n",
       "      <td>647.0</td>\n",
       "      <td>Ynys Mon</td>\n",
       "      <td>Wales</td>\n",
       "      <td>2010.0</td>\n",
       "      <td>50075.0</td>\n",
       "      <td>34444</td>\n",
       "      <td>NaN</td>\n",
       "      <td>NaN</td>\n",
       "      <td>NaN</td>\n",
       "      <td>NaN</td>\n",
       "      <td>...</td>\n",
       "      <td>1201.0</td>\n",
       "      <td>NaN</td>\n",
       "      <td>NaN</td>\n",
       "      <td>NaN</td>\n",
       "      <td>NaN</td>\n",
       "      <td>NaN</td>\n",
       "      <td>NaN</td>\n",
       "      <td>NaN</td>\n",
       "      <td>NaN</td>\n",
       "      <td>NaN</td>\n",
       "    </tr>\n",
       "    <tr>\n",
       "      <th>647</th>\n",
       "      <td>648.0</td>\n",
       "      <td>York Central</td>\n",
       "      <td>Yorkshire and the Humber</td>\n",
       "      <td>2010.0</td>\n",
       "      <td>76439.0</td>\n",
       "      <td>46483</td>\n",
       "      <td>NaN</td>\n",
       "      <td>NaN</td>\n",
       "      <td>NaN</td>\n",
       "      <td>NaN</td>\n",
       "      <td>...</td>\n",
       "      <td>1100.0</td>\n",
       "      <td>NaN</td>\n",
       "      <td>NaN</td>\n",
       "      <td>NaN</td>\n",
       "      <td>NaN</td>\n",
       "      <td>NaN</td>\n",
       "      <td>NaN</td>\n",
       "      <td>NaN</td>\n",
       "      <td>NaN</td>\n",
       "      <td>NaN</td>\n",
       "    </tr>\n",
       "    <tr>\n",
       "      <th>648</th>\n",
       "      <td>649.0</td>\n",
       "      <td>York Outer</td>\n",
       "      <td>Yorkshire and the Humber</td>\n",
       "      <td>2010.0</td>\n",
       "      <td>75939.0</td>\n",
       "      <td>53300</td>\n",
       "      <td>NaN</td>\n",
       "      <td>NaN</td>\n",
       "      <td>NaN</td>\n",
       "      <td>NaN</td>\n",
       "      <td>...</td>\n",
       "      <td>1100.0</td>\n",
       "      <td>NaN</td>\n",
       "      <td>NaN</td>\n",
       "      <td>NaN</td>\n",
       "      <td>NaN</td>\n",
       "      <td>NaN</td>\n",
       "      <td>NaN</td>\n",
       "      <td>NaN</td>\n",
       "      <td>NaN</td>\n",
       "      <td>NaN</td>\n",
       "    </tr>\n",
       "    <tr>\n",
       "      <th>649</th>\n",
       "      <td>650.0</td>\n",
       "      <td>Yorkshire East</td>\n",
       "      <td>Yorkshire and the Humber</td>\n",
       "      <td>2010.0</td>\n",
       "      <td>80105.0</td>\n",
       "      <td>51254</td>\n",
       "      <td>NaN</td>\n",
       "      <td>NaN</td>\n",
       "      <td>NaN</td>\n",
       "      <td>NaN</td>\n",
       "      <td>...</td>\n",
       "      <td>2142.0</td>\n",
       "      <td>NaN</td>\n",
       "      <td>NaN</td>\n",
       "      <td>NaN</td>\n",
       "      <td>NaN</td>\n",
       "      <td>NaN</td>\n",
       "      <td>NaN</td>\n",
       "      <td>NaN</td>\n",
       "      <td>NaN</td>\n",
       "      <td>NaN</td>\n",
       "    </tr>\n",
       "    <tr>\n",
       "      <th>650</th>\n",
       "      <td>NaN</td>\n",
       "      <td>NaN</td>\n",
       "      <td>NaN</td>\n",
       "      <td>NaN</td>\n",
       "      <td>NaN</td>\n",
       "      <td>29687604</td>\n",
       "      <td>NaN</td>\n",
       "      <td>NaN</td>\n",
       "      <td>NaN</td>\n",
       "      <td>NaN</td>\n",
       "      <td>...</td>\n",
       "      <td>NaN</td>\n",
       "      <td>NaN</td>\n",
       "      <td>NaN</td>\n",
       "      <td>NaN</td>\n",
       "      <td>NaN</td>\n",
       "      <td>NaN</td>\n",
       "      <td>NaN</td>\n",
       "      <td>NaN</td>\n",
       "      <td>NaN</td>\n",
       "      <td>NaN</td>\n",
       "    </tr>\n",
       "  </tbody>\n",
       "</table>\n",
       "<p>5 rows × 144 columns</p>\n",
       "</div>"
      ],
      "text/plain": [
       "     Press Association Reference Constituency Name                    Region  \\\n",
       "646                        647.0          Ynys Mon                     Wales   \n",
       "647                        648.0      York Central  Yorkshire and the Humber   \n",
       "648                        649.0        York Outer  Yorkshire and the Humber   \n",
       "649                        650.0    Yorkshire East  Yorkshire and the Humber   \n",
       "650                          NaN               NaN                       NaN   \n",
       "\n",
       "     Election Year  Electorate     Votes  AC  AD  AGS  APNI  ...    UKIP  UPS  \\\n",
       "646         2010.0     50075.0     34444 NaN NaN  NaN   NaN  ...  1201.0  NaN   \n",
       "647         2010.0     76439.0     46483 NaN NaN  NaN   NaN  ...  1100.0  NaN   \n",
       "648         2010.0     75939.0     53300 NaN NaN  NaN   NaN  ...  1100.0  NaN   \n",
       "649         2010.0     80105.0     51254 NaN NaN  NaN   NaN  ...  2142.0  NaN   \n",
       "650            NaN         NaN  29687604 NaN NaN  NaN   NaN  ...     NaN  NaN   \n",
       "\n",
       "     UV  VCCA  Vote  Wessex Reg  WRP  You  Youth  YRDPL  \n",
       "646 NaN   NaN   NaN         NaN  NaN  NaN    NaN    NaN  \n",
       "647 NaN   NaN   NaN         NaN  NaN  NaN    NaN    NaN  \n",
       "648 NaN   NaN   NaN         NaN  NaN  NaN    NaN    NaN  \n",
       "649 NaN   NaN   NaN         NaN  NaN  NaN    NaN    NaN  \n",
       "650 NaN   NaN   NaN         NaN  NaN  NaN    NaN    NaN  \n",
       "\n",
       "[5 rows x 144 columns]"
      ]
     },
     "execution_count": 3,
     "metadata": {},
     "output_type": "execute_result"
    }
   ],
   "source": [
    "df = pd.read_excel('data/ch01/UK2010.xls')\n",
    "df.tail()"
   ]
  },
  {
   "cell_type": "code",
   "execution_count": 4,
   "id": "b732226e",
   "metadata": {},
   "outputs": [
    {
     "data": {
      "text/plain": [
       "Index(['Press Association Reference', 'Constituency Name', 'Region',\n",
       "       'Election Year', 'Electorate', 'Votes', 'AC', 'AD', 'AGS', 'APNI',\n",
       "       ...\n",
       "       'UKIP', 'UPS', 'UV', 'VCCA', 'Vote', 'Wessex Reg', 'WRP', 'You',\n",
       "       'Youth', 'YRDPL'],\n",
       "      dtype='object', length=144)"
      ]
     },
     "execution_count": 4,
     "metadata": {},
     "output_type": "execute_result"
    }
   ],
   "source": [
    "df.columns"
   ]
  },
  {
   "cell_type": "markdown",
   "id": "d0f437f4",
   "metadata": {},
   "source": [
    "Это очень широкий набор данных, состоящий из 144 полей. Первые шесть столбцов в файле данных описываются следующим образом; последующие столбцы лишь распределяют число голосов по партиям:\n",
    "\n",
    "Информация для Ассоциации прессы: число, идентифицирующее избирательный округ (представленный одним депутатом)\n",
    "\n",
    "Название избирательного округа: стандартное название, данное избирательному округу\n",
    "\n",
    "Регион: географический район Великобритании, где округ расположен\n",
    "\n",
    "Год выборов: год, в котором выборы состоялись\n",
    "\n",
    "Электорат: общее число граждан, имеющих право голоса в избирательном округе\n",
    "\n",
    "Голосование: общее число проголосовавших\n",
    "\n",
    "Всякий раз, когда мы сталкиваемся с новыми данными, важно потратить некоторое время на то, чтобы в них разобраться. В отсутствии подробного описания данных лучше всего начать с подтверждения наших предположений в отношении данных. Например, мы ожидаем, что этот набор данных содержит информацию о выборах 2010 г., поэтому проверим содержимое столбца года выборов Election Year.\n",
    "\n",
    "В pandas предусмотрена обширная функциональность для горизонтального (построчного) и вертикального (постолбцового) отбора и фильтрации данных. В элементарном случае нужный столбец можно выбрать, указав его номер или имя. В этой серии постов мы часто будем таким способом отбирать столбцы данных из различных представлений данных:"
   ]
  },
  {
   "cell_type": "code",
   "execution_count": 5,
   "id": "84a05c8c",
   "metadata": {},
   "outputs": [
    {
     "data": {
      "text/plain": [
       "0      2010.0\n",
       "1      2010.0\n",
       "2      2010.0\n",
       "3      2010.0\n",
       "4      2010.0\n",
       "        ...  \n",
       "646    2010.0\n",
       "647    2010.0\n",
       "648    2010.0\n",
       "649    2010.0\n",
       "650       NaN\n",
       "Name: Election Year, Length: 651, dtype: float64"
      ]
     },
     "execution_count": 5,
     "metadata": {},
     "output_type": "execute_result"
    }
   ],
   "source": [
    "df['Election Year']"
   ]
  },
  {
   "cell_type": "code",
   "execution_count": 6,
   "id": "fce5da9b",
   "metadata": {},
   "outputs": [
    {
     "data": {
      "text/plain": [
       "array([2010.,   nan])"
      ]
     },
     "execution_count": 6,
     "metadata": {},
     "output_type": "execute_result"
    }
   ],
   "source": [
    "df['Election Year'].unique()"
   ]
  },
  {
   "cell_type": "code",
   "execution_count": 7,
   "id": "ec1dc308",
   "metadata": {},
   "outputs": [
    {
     "data": {
      "text/plain": [
       "2010.0    650\n",
       "NaN         1\n",
       "Name: Election Year, dtype: int64"
      ]
     },
     "execution_count": 7,
     "metadata": {},
     "output_type": "execute_result"
    }
   ],
   "source": [
    "pd.value_counts(df['Election Year'], dropna = False)"
   ]
  },
  {
   "cell_type": "markdown",
   "id": "94ecaece",
   "metadata": {},
   "source": [
    "## Исправление данных"
   ]
  },
  {
   "cell_type": "markdown",
   "id": "89197b9a",
   "metadata": {},
   "source": [
    "Согласно неоднократно подтвержденной статистике, как минимум 80% рабочего времени исследователь данных тратит на исправление данных. Эта процедура заключается в выявлении потенциально поврежденных или некорректных данных и их корректировке либо фильтрации.\n",
    "\n",
    "Специальное значение nan в конце столбца года выборов может сигнализировать о грязных данных, которые требуется удалить. Мы уже убедились, что нужные столбцы данных в pandas можно отобрать, указав их номера или имена. Для фильтрации записей данных можно воспользоваться одним из предикативных методов библиотеки pandas."
   ]
  },
  {
   "cell_type": "code",
   "execution_count": 8,
   "id": "26cec45e",
   "metadata": {},
   "outputs": [
    {
     "data": {
      "text/html": [
       "<div>\n",
       "<style scoped>\n",
       "    .dataframe tbody tr th:only-of-type {\n",
       "        vertical-align: middle;\n",
       "    }\n",
       "\n",
       "    .dataframe tbody tr th {\n",
       "        vertical-align: top;\n",
       "    }\n",
       "\n",
       "    .dataframe thead th {\n",
       "        text-align: right;\n",
       "    }\n",
       "</style>\n",
       "<table border=\"1\" class=\"dataframe\">\n",
       "  <thead>\n",
       "    <tr style=\"text-align: right;\">\n",
       "      <th></th>\n",
       "      <th>Press Association Reference</th>\n",
       "      <th>Constituency Name</th>\n",
       "      <th>Region</th>\n",
       "      <th>Election Year</th>\n",
       "      <th>Electorate</th>\n",
       "      <th>Votes</th>\n",
       "      <th>AC</th>\n",
       "      <th>AD</th>\n",
       "      <th>AGS</th>\n",
       "      <th>APNI</th>\n",
       "      <th>...</th>\n",
       "      <th>UKIP</th>\n",
       "      <th>UPS</th>\n",
       "      <th>UV</th>\n",
       "      <th>VCCA</th>\n",
       "      <th>Vote</th>\n",
       "      <th>Wessex Reg</th>\n",
       "      <th>WRP</th>\n",
       "      <th>You</th>\n",
       "      <th>Youth</th>\n",
       "      <th>YRDPL</th>\n",
       "    </tr>\n",
       "  </thead>\n",
       "  <tbody>\n",
       "    <tr>\n",
       "      <th>650</th>\n",
       "      <td>NaN</td>\n",
       "      <td>NaN</td>\n",
       "      <td>NaN</td>\n",
       "      <td>NaN</td>\n",
       "      <td>NaN</td>\n",
       "      <td>29687604</td>\n",
       "      <td>NaN</td>\n",
       "      <td>NaN</td>\n",
       "      <td>NaN</td>\n",
       "      <td>NaN</td>\n",
       "      <td>...</td>\n",
       "      <td>NaN</td>\n",
       "      <td>NaN</td>\n",
       "      <td>NaN</td>\n",
       "      <td>NaN</td>\n",
       "      <td>NaN</td>\n",
       "      <td>NaN</td>\n",
       "      <td>NaN</td>\n",
       "      <td>NaN</td>\n",
       "      <td>NaN</td>\n",
       "      <td>NaN</td>\n",
       "    </tr>\n",
       "  </tbody>\n",
       "</table>\n",
       "<p>1 rows × 144 columns</p>\n",
       "</div>"
      ],
      "text/plain": [
       "     Press Association Reference Constituency Name Region  Election Year  \\\n",
       "650                          NaN               NaN    NaN            NaN   \n",
       "\n",
       "     Electorate     Votes  AC  AD  AGS  APNI  ...  UKIP  UPS  UV  VCCA  Vote  \\\n",
       "650         NaN  29687604 NaN NaN  NaN   NaN  ...   NaN  NaN NaN   NaN   NaN   \n",
       "\n",
       "     Wessex Reg  WRP  You  Youth  YRDPL  \n",
       "650         NaN  NaN  NaN    NaN    NaN  \n",
       "\n",
       "[1 rows x 144 columns]"
      ]
     },
     "execution_count": 8,
     "metadata": {},
     "output_type": "execute_result"
    }
   ],
   "source": [
    "df[ df['Election Year'].isnull() ]"
   ]
  },
  {
   "cell_type": "markdown",
   "id": "e6887f5c",
   "metadata": {},
   "source": [
    "Присмотревшись к результатам запроса к df, можно заметить, что в полученной записи все поля (кроме одного) имеют значение NaN. Дальнейший анализ данных подтверждает, что строка с непустым полем на самом деле является строкой итоговой суммы в листе файла Excel. Эту строку следует из набора данных удалить. Мы можем удалять проблемные строки путем обновления коллекции предикативной функцией notnull(), которая в данном случае вернет только те строки, в которых год выборов не равен NaN:"
   ]
  },
  {
   "cell_type": "code",
   "execution_count": 9,
   "id": "7c470353",
   "metadata": {},
   "outputs": [
    {
     "data": {
      "text/html": [
       "<div>\n",
       "<style scoped>\n",
       "    .dataframe tbody tr th:only-of-type {\n",
       "        vertical-align: middle;\n",
       "    }\n",
       "\n",
       "    .dataframe tbody tr th {\n",
       "        vertical-align: top;\n",
       "    }\n",
       "\n",
       "    .dataframe thead th {\n",
       "        text-align: right;\n",
       "    }\n",
       "</style>\n",
       "<table border=\"1\" class=\"dataframe\">\n",
       "  <thead>\n",
       "    <tr style=\"text-align: right;\">\n",
       "      <th></th>\n",
       "      <th>Press Association Reference</th>\n",
       "      <th>Constituency Name</th>\n",
       "      <th>Region</th>\n",
       "      <th>Election Year</th>\n",
       "      <th>Electorate</th>\n",
       "      <th>Votes</th>\n",
       "      <th>AC</th>\n",
       "      <th>AD</th>\n",
       "      <th>AGS</th>\n",
       "      <th>APNI</th>\n",
       "      <th>...</th>\n",
       "      <th>UKIP</th>\n",
       "      <th>UPS</th>\n",
       "      <th>UV</th>\n",
       "      <th>VCCA</th>\n",
       "      <th>Vote</th>\n",
       "      <th>Wessex Reg</th>\n",
       "      <th>WRP</th>\n",
       "      <th>You</th>\n",
       "      <th>Youth</th>\n",
       "      <th>YRDPL</th>\n",
       "    </tr>\n",
       "  </thead>\n",
       "  <tbody>\n",
       "    <tr>\n",
       "      <th>645</th>\n",
       "      <td>646.0</td>\n",
       "      <td>Yeovil</td>\n",
       "      <td>South West</td>\n",
       "      <td>2010.0</td>\n",
       "      <td>82314.0</td>\n",
       "      <td>57160</td>\n",
       "      <td>NaN</td>\n",
       "      <td>NaN</td>\n",
       "      <td>NaN</td>\n",
       "      <td>NaN</td>\n",
       "      <td>...</td>\n",
       "      <td>2357.0</td>\n",
       "      <td>NaN</td>\n",
       "      <td>NaN</td>\n",
       "      <td>NaN</td>\n",
       "      <td>NaN</td>\n",
       "      <td>NaN</td>\n",
       "      <td>NaN</td>\n",
       "      <td>NaN</td>\n",
       "      <td>NaN</td>\n",
       "      <td>NaN</td>\n",
       "    </tr>\n",
       "    <tr>\n",
       "      <th>646</th>\n",
       "      <td>647.0</td>\n",
       "      <td>Ynys Mon</td>\n",
       "      <td>Wales</td>\n",
       "      <td>2010.0</td>\n",
       "      <td>50075.0</td>\n",
       "      <td>34444</td>\n",
       "      <td>NaN</td>\n",
       "      <td>NaN</td>\n",
       "      <td>NaN</td>\n",
       "      <td>NaN</td>\n",
       "      <td>...</td>\n",
       "      <td>1201.0</td>\n",
       "      <td>NaN</td>\n",
       "      <td>NaN</td>\n",
       "      <td>NaN</td>\n",
       "      <td>NaN</td>\n",
       "      <td>NaN</td>\n",
       "      <td>NaN</td>\n",
       "      <td>NaN</td>\n",
       "      <td>NaN</td>\n",
       "      <td>NaN</td>\n",
       "    </tr>\n",
       "    <tr>\n",
       "      <th>647</th>\n",
       "      <td>648.0</td>\n",
       "      <td>York Central</td>\n",
       "      <td>Yorkshire and the Humber</td>\n",
       "      <td>2010.0</td>\n",
       "      <td>76439.0</td>\n",
       "      <td>46483</td>\n",
       "      <td>NaN</td>\n",
       "      <td>NaN</td>\n",
       "      <td>NaN</td>\n",
       "      <td>NaN</td>\n",
       "      <td>...</td>\n",
       "      <td>1100.0</td>\n",
       "      <td>NaN</td>\n",
       "      <td>NaN</td>\n",
       "      <td>NaN</td>\n",
       "      <td>NaN</td>\n",
       "      <td>NaN</td>\n",
       "      <td>NaN</td>\n",
       "      <td>NaN</td>\n",
       "      <td>NaN</td>\n",
       "      <td>NaN</td>\n",
       "    </tr>\n",
       "    <tr>\n",
       "      <th>648</th>\n",
       "      <td>649.0</td>\n",
       "      <td>York Outer</td>\n",
       "      <td>Yorkshire and the Humber</td>\n",
       "      <td>2010.0</td>\n",
       "      <td>75939.0</td>\n",
       "      <td>53300</td>\n",
       "      <td>NaN</td>\n",
       "      <td>NaN</td>\n",
       "      <td>NaN</td>\n",
       "      <td>NaN</td>\n",
       "      <td>...</td>\n",
       "      <td>1100.0</td>\n",
       "      <td>NaN</td>\n",
       "      <td>NaN</td>\n",
       "      <td>NaN</td>\n",
       "      <td>NaN</td>\n",
       "      <td>NaN</td>\n",
       "      <td>NaN</td>\n",
       "      <td>NaN</td>\n",
       "      <td>NaN</td>\n",
       "      <td>NaN</td>\n",
       "    </tr>\n",
       "    <tr>\n",
       "      <th>649</th>\n",
       "      <td>650.0</td>\n",
       "      <td>Yorkshire East</td>\n",
       "      <td>Yorkshire and the Humber</td>\n",
       "      <td>2010.0</td>\n",
       "      <td>80105.0</td>\n",
       "      <td>51254</td>\n",
       "      <td>NaN</td>\n",
       "      <td>NaN</td>\n",
       "      <td>NaN</td>\n",
       "      <td>NaN</td>\n",
       "      <td>...</td>\n",
       "      <td>2142.0</td>\n",
       "      <td>NaN</td>\n",
       "      <td>NaN</td>\n",
       "      <td>NaN</td>\n",
       "      <td>NaN</td>\n",
       "      <td>NaN</td>\n",
       "      <td>NaN</td>\n",
       "      <td>NaN</td>\n",
       "      <td>NaN</td>\n",
       "      <td>NaN</td>\n",
       "    </tr>\n",
       "  </tbody>\n",
       "</table>\n",
       "<p>5 rows × 144 columns</p>\n",
       "</div>"
      ],
      "text/plain": [
       "     Press Association Reference Constituency Name                    Region  \\\n",
       "645                        646.0            Yeovil                South West   \n",
       "646                        647.0          Ynys Mon                     Wales   \n",
       "647                        648.0      York Central  Yorkshire and the Humber   \n",
       "648                        649.0        York Outer  Yorkshire and the Humber   \n",
       "649                        650.0    Yorkshire East  Yorkshire and the Humber   \n",
       "\n",
       "     Election Year  Electorate  Votes  AC  AD  AGS  APNI  ...    UKIP  UPS  \\\n",
       "645         2010.0     82314.0  57160 NaN NaN  NaN   NaN  ...  2357.0  NaN   \n",
       "646         2010.0     50075.0  34444 NaN NaN  NaN   NaN  ...  1201.0  NaN   \n",
       "647         2010.0     76439.0  46483 NaN NaN  NaN   NaN  ...  1100.0  NaN   \n",
       "648         2010.0     75939.0  53300 NaN NaN  NaN   NaN  ...  1100.0  NaN   \n",
       "649         2010.0     80105.0  51254 NaN NaN  NaN   NaN  ...  2142.0  NaN   \n",
       "\n",
       "     UV  VCCA  Vote  Wessex Reg  WRP  You  Youth  YRDPL  \n",
       "645 NaN   NaN   NaN         NaN  NaN  NaN    NaN    NaN  \n",
       "646 NaN   NaN   NaN         NaN  NaN  NaN    NaN    NaN  \n",
       "647 NaN   NaN   NaN         NaN  NaN  NaN    NaN    NaN  \n",
       "648 NaN   NaN   NaN         NaN  NaN  NaN    NaN    NaN  \n",
       "649 NaN   NaN   NaN         NaN  NaN  NaN    NaN    NaN  \n",
       "\n",
       "[5 rows x 144 columns]"
      ]
     },
     "execution_count": 9,
     "metadata": {},
     "output_type": "execute_result"
    }
   ],
   "source": [
    "df = df[ df[ 'Election Year' ].notnull() ]\n",
    "df.tail()"
   ]
  },
  {
   "cell_type": "markdown",
   "id": "1267c2c2",
   "metadata": {},
   "source": [
    "## Описательные статистики"
   ]
  },
  {
   "cell_type": "markdown",
   "id": "5a2be9c0",
   "metadata": {},
   "source": [
    "Описательные статистические величины, или статистики, — это числа, которые используются для обобщения и описания данных. В целях демонстрации того, что мы имеем в виду, посмотрим на столбец с данными об электорате Electorate. Он показывает суммарное число зарегистрированных избирателей в каждом избирательном округе:"
   ]
  },
  {
   "cell_type": "code",
   "execution_count": 10,
   "id": "53013348",
   "metadata": {},
   "outputs": [
    {
     "data": {
      "text/plain": [
       "650"
      ]
     },
     "execution_count": 10,
     "metadata": {},
     "output_type": "execute_result"
    }
   ],
   "source": [
    "df['Electorate'].count()"
   ]
  },
  {
   "cell_type": "markdown",
   "id": "e2a983ae",
   "metadata": {},
   "source": [
    "Мы уже очистили столбец, отфильтровав пустые значения (nan) из набора данных, и поэтому предыдущий пример должен вернуть суммарное число избирательных округов.\n",
    "\n",
    "Описательные статистики, так называемые сводные статистики, представляют собой разные подходы к измерению свойств последовательностей чисел. Они помогают охарактеризовать последовательность и способны выступать в качестве ориентира для дальнейшего анализа. Начнем с двух самых базовых статистик, которые мы можем вычислить из последовательности чисел — ее среднее значение и дисперсию (варианс)."
   ]
  },
  {
   "cell_type": "markdown",
   "id": "bbd2d16b",
   "metadata": {},
   "source": [
    "Наиболее распространенный способ усреднить набор данных — взять его среднее значение. Среднее значение на самом деле представляет собой один из нескольких способов измерения центра распределения данных."
   ]
  },
  {
   "cell_type": "code",
   "execution_count": 11,
   "id": "2114541a",
   "metadata": {},
   "outputs": [
    {
     "data": {
      "text/plain": [
       "70149.94"
      ]
     },
     "execution_count": 11,
     "metadata": {},
     "output_type": "execute_result"
    }
   ],
   "source": [
    "df['Electorate'].mean()"
   ]
  },
  {
   "cell_type": "markdown",
   "id": "bc74eabe",
   "metadata": {},
   "source": [
    "Медиана — это еще одна распространенная описательная статистика для измерения центра распределения последовательности. Если Вы упорядочили все данные от меньшего до наибольшего, то медиана — это значение, которое находится ровно по середине. Если в последовательности число точек данных четное, то медиана определяется, как полусумма двух срединных значений."
   ]
  },
  {
   "cell_type": "code",
   "execution_count": 12,
   "id": "84d616b3",
   "metadata": {},
   "outputs": [
    {
     "data": {
      "text/plain": [
       "70813.5"
      ]
     },
     "execution_count": 12,
     "metadata": {},
     "output_type": "execute_result"
    }
   ],
   "source": [
    "df['Electorate'].median()"
   ]
  },
  {
   "cell_type": "markdown",
   "id": "05f70467",
   "metadata": {},
   "source": [
    "Среднее арифметическое и медиана являются двумя альтернативными способами описания среднего значения последовательности, но сами по себе они мало что говорят о содержащихся в ней значениях. Например, если известно, что среднее последовательности из девяноста девяти значений равно 50, то мы почти ничего не скажем о том, какого рода значения последовательность содержит.\n",
    "\n",
    "Она может содержать целые числа от одного до девяноста девяти либо сорок девять нулей и пятьдесят девяносто девяток, а может быть и так, что она девяносто восемь раз содержит отрицательную единицу и одно число 5048, или же вообще все значения могут быть равны 50.\n",
    "\n",
    "Дисперсия (варианс) последовательности чисел показывает «разброс» данных вокруг среднего значения. К примеру, данные, приведенные выше, имели бы разную дисперсию. "
   ]
  },
  {
   "cell_type": "code",
   "execution_count": 13,
   "id": "a4a1cbac",
   "metadata": {},
   "outputs": [
    {
     "data": {
      "text/plain": [
       "58962151.07035443"
      ]
     },
     "execution_count": 13,
     "metadata": {},
     "output_type": "execute_result"
    }
   ],
   "source": [
    "df['Electorate'].var()"
   ]
  },
  {
   "cell_type": "markdown",
   "id": "b51018ca",
   "metadata": {},
   "source": [
    "<div class =\"alert alert-block alert-info\">\n",
    "Поскольку мы взяли средний квадрат отклонения, т.е. получили квадрат отклонения и затем его среднее, то единицы измерения дисперсии (варианса) тоже будут в квадрате, т.е. дисперсия электората Великобритании будет измеряться «людьми в квадрате». Несколько неестественно рассуждать об избирателях в таком виде. Единицу измерения можно привести к более естественному виду, снова обозначающему «людей», путем извлечения квадратного корня из дисперсии (варианса). В результате получим так называемое <b>стандартное отклонение</b>, или среднеквадратичное отклонение:\n",
    "</div>"
   ]
  },
  {
   "cell_type": "code",
   "execution_count": 14,
   "id": "e0418a14",
   "metadata": {},
   "outputs": [
    {
     "data": {
      "text/plain": [
       "7672.772645446216"
      ]
     },
     "execution_count": 14,
     "metadata": {},
     "output_type": "execute_result"
    }
   ],
   "source": [
    "# метод s.std() в pandas по умолчанию вычисляет несмещенное \n",
    "# значение, т.е. нормализует на n-1 (ddof=1 по умолчанию). \n",
    "# Чтобы задать смещенное вычисление, нужно указать ddof=0\n",
    "df['Electorate'].std( ddof=0 )"
   ]
  },
  {
   "cell_type": "code",
   "execution_count": 15,
   "id": "97eb5143",
   "metadata": {},
   "outputs": [
    {
     "data": {
      "text/plain": [
       "count       650.000000\n",
       "mean      70149.940000\n",
       "std        7678.681597\n",
       "min       21780.000000\n",
       "25%       65929.250000\n",
       "50%       70813.500000\n",
       "75%       74948.500000\n",
       "max      109922.000000\n",
       "Name: Electorate, dtype: float64"
      ]
     },
     "execution_count": 15,
     "metadata": {},
     "output_type": "execute_result"
    }
   ],
   "source": [
    "# Резумирующая статистическая информация по полю \"Электорат\"\n",
    "\n",
    "df['Electorate'].describe()"
   ]
  },
  {
   "cell_type": "markdown",
   "id": "17490ca2",
   "metadata": {},
   "source": [
    "## Группирование данных в корзины"
   ]
  },
  {
   "cell_type": "markdown",
   "id": "1f932d69",
   "metadata": {},
   "source": [
    "В целях развития интуитивного понимания в отношении того, что именно все эти расчеты разброса значений измеряют, мы можем применить метод под названием группировка в частотные корзины (binning). \n",
    "Процедура образования корзин заключается в разбиении диапазона значений на ряд последовательных, равноразмерных и меньших интервалов. Каждое значение в исходном ряду попадает строго в одну корзину. Подсчитав количества точек, попадающих в каждую корзину, мы можем получить представление о разбросе данных."
   ]
  },
  {
   "cell_type": "code",
   "execution_count": 16,
   "id": "d6a0c246",
   "metadata": {},
   "outputs": [
    {
     "data": {
      "text/plain": [
       "2    450\n",
       "3    171\n",
       "1     26\n",
       "0      2\n",
       "4      1\n",
       "Name: Electorate, dtype: int64"
      ]
     },
     "execution_count": 16,
     "metadata": {},
     "output_type": "execute_result"
    }
   ],
   "source": [
    "series = df['Electorate']\n",
    "pd.value_counts(pd.cut(series, bins=5, labels=False))\n",
    "    "
   ]
  },
  {
   "cell_type": "markdown",
   "id": "b6ae4566",
   "metadata": {},
   "source": [
    "Количество точек в крайних корзинах (0 и 4) значительно ниже, чем в корзинах в середине — количества, судя по всему, растут по направлению к медиане, а затем снова снижаются. В следующем разделе мы займемся визуализацией формы этих количеств."
   ]
  },
  {
   "cell_type": "markdown",
   "id": "3b35429d",
   "metadata": {},
   "source": [
    "## Гистограммы"
   ]
  },
  {
   "cell_type": "markdown",
   "id": "4e29d1fc",
   "metadata": {},
   "source": [
    "Гистограмма — это один из способов визуализации распределения одной последовательности значений. Гистограммы попросту берут непрерывное распределение, разбивают его на корзины, и изображают частоты точек, попадающих в каждую корзину, в виде столбцов. Высота каждого столбца гистограммы показывает количество точек данных, которые содержатся в этой корзине."
   ]
  },
  {
   "cell_type": "code",
   "execution_count": 17,
   "id": "dfe4cb9c",
   "metadata": {},
   "outputs": [
    {
     "data": {
      "image/png": "[encoded data removed]",
      "text/plain": [
       "<Figure size 432x288 with 1 Axes>"
      ]
     },
     "metadata": {
      "needs_background": "light"
     },
     "output_type": "display_data"
    }
   ],
   "source": [
    "# Построить гистограмму частотных корзин \n",
    "#       электората Великобритании\n",
    "\n",
    "df['Electorate'].hist()\n",
    "plt.xlabel('Электорат Великобритании')\n",
    "plt.ylabel('Частота')\n",
    "#saveplot('ex_1_12.png')  \n",
    "plt.show()"
   ]
  },
  {
   "cell_type": "markdown",
   "id": "18bac9b7",
   "metadata": {},
   "source": [
    "Число корзин, на которые данные разбиваются, можно сконфигурировать, передав в функцию при построении гистограммы именованный аргумент bins. Приведенный выше график показывает единственный высокий пик, однако он выражает форму данных довольно грубо. Следующий ниже график показывает мелкие детали, но величина столбцов делает неясной форму распределения, в особенности в хвостах:"
   ]
  },
  {
   "cell_type": "code",
   "execution_count": 18,
   "id": "fd1c4679",
   "metadata": {},
   "outputs": [
    {
     "data": {
      "image/png": "[encoded data removed]",
      "text/plain": [
       "<Figure size 432x288 with 1 Axes>"
      ]
     },
     "metadata": {
      "needs_background": "light"
     },
     "output_type": "display_data"
    }
   ],
   "source": [
    "df['Electorate'].hist(bins=200)\n",
    "plt.xlabel('Электорат Великобритании')\n",
    "plt.ylabel('Частота')\n",
    "#saveplot('ex_1_12.png')  \n",
    "plt.show()"
   ]
  },
  {
   "cell_type": "markdown",
   "id": "30e54c94",
   "metadata": {},
   "source": [
    "При выборе количества корзин для представления данных следует найти точку равновесия — с малым количеством корзин форма данных будет представлена лишь приблизительно, а слишком большое их число приведет к тому, что шумовые признаки могут заслонить лежащую в основании структуру.Окончательный график, состоящий из 20 корзин, судя по всему, пока лучше всего представляет эти данные."
   ]
  },
  {
   "cell_type": "code",
   "execution_count": 19,
   "id": "4fd793d1",
   "metadata": {},
   "outputs": [
    {
     "data": {
      "image/png": "[encoded data removed]",
      "text/plain": [
       "<Figure size 432x288 with 1 Axes>"
      ]
     },
     "metadata": {
      "needs_background": "light"
     },
     "output_type": "display_data"
    }
   ],
   "source": [
    "df['Electorate'].hist(bins=20)\n",
    "plt.xlabel('Электорат Великобритании')\n",
    "plt.ylabel('Частота')\n",
    "#saveplot('ex_1_12.png')  \n",
    "plt.show()"
   ]
  },
  {
   "cell_type": "markdown",
   "id": "15a41cd0",
   "metadata": {},
   "source": [
    "## Нормальное распределение"
   ]
  },
  {
   "cell_type": "markdown",
   "id": "64165d69",
   "metadata": {},
   "source": [
    "Гистограмма дает приблизительное представление о том, каким образом данные распределены по всему диапазону, и является визуальным средством, которое позволяет квалифицировать данные как относящиеся к одному из немногих популярных распределений. В анализе данных многие распределения встречаются часто, но ни одно не встречается также часто, как нормальное распределение, именуемое также гауссовым распределением."
   ]
  },
  {
   "cell_type": "markdown",
   "id": "86de07c1",
   "metadata": {},
   "source": [
    "### Центральная предельная теорема"
   ]
  },
  {
   "cell_type": "markdown",
   "id": "034fccea",
   "metadata": {},
   "source": [
    "Высокая встречаемость нормального распределения отчасти объясняется центральной предельной теоремой. Дело в том, что значения, полученные из разнообразных статистических распределений, при определенных обстоятельствах имеют тенденцию сходиться к нормальному распределению.\n",
    "\n",
    "В программировании типичным распределением является равномерное распределение. Оно представлено распределением чисел, генерируемых функцией библиотеки scipy stats.uniform.rvs: в справедливом генераторе случайных чисел все числа имеют равные шансы быть сгенерированными. Мы можем увидеть это на гистограмме, многократно генерируя серию случайных чисел между 0 и 1 и затем построив график с результатами."
   ]
  },
  {
   "cell_type": "code",
   "execution_count": 20,
   "id": "8c1bda6b",
   "metadata": {},
   "outputs": [
    {
     "data": {
      "image/png": "[encoded data removed]",
      "text/plain": [
       "<Figure size 432x288 with 1 Axes>"
      ]
     },
     "metadata": {
      "needs_background": "light"
     },
     "output_type": "display_data"
    }
   ],
   "source": [
    "# Показать гистограмму равномерного распределения \n",
    "#       синтетического набора данных\n",
    "# как вариант, xs = [random.uniform(0, 1) for _ in range(10000)]\n",
    "\n",
    "xs = stats.uniform.rvs(0, 1, 10000)\n",
    "pd.Series(xs).hist(bins=20)\n",
    "plt.xlabel('Равномерное распределение')\n",
    "plt.ylabel('Частота')            \n",
    "plt.show()"
   ]
  },
  {
   "cell_type": "markdown",
   "id": "8edb6def",
   "metadata": {},
   "source": [
    "Каждый столбец гистограммы имеет примерно одинаковую высоту, что соответствует равновероятности генерирования числа, которое попадает в каждую корзину. Столбцы имеют не совсем одинаковую высоту, потому что равномерное распределение описывает теоретический результат, который наша случайная выборка не может отразить в точности. Раздел инференциальной статистики, посвященный проверке статистических гипотез, изучает способы точной количественной оценки расхождения между теорией и практикой, чтобы определить, являются ли расхождения достаточно большими, чтобы обратить на это внимание. В данном случае они таковыми не являются.\n",
    "\n",
    "Если напротив сгенерировать гистограмму средних значений последовательностей чисел, то в результате получится распределение, которое выглядит совсем непохоже."
   ]
  },
  {
   "cell_type": "code",
   "execution_count": 21,
   "id": "1d61b5e4",
   "metadata": {},
   "outputs": [
    {
     "data": {
      "image/png": "[encoded data removed]",
      "text/plain": [
       "<Figure size 432x288 with 1 Axes>"
      ]
     },
     "metadata": {
      "needs_background": "light"
     },
     "output_type": "display_data"
    }
   ],
   "source": [
    "def bootstrap(xs, n, replace=True): \n",
    "    '''Вернуть список массивов меньших размеров \n",
    "       по n элементов каждый'''\n",
    "    return np.random.choice(xs, (len(xs), n), replace=replace) \n",
    "\n",
    "def ex_1_16():\n",
    "    '''Построить гистограмму средних значений'''\n",
    "    xs = stats.uniform.rvs(loc=0, scale=1, size=10000)\n",
    "    pd.Series( map(sp.mean, bootstrap(xs, 10)) ).hist(bins=20)\n",
    "    plt.xlabel('Распределение средних значений') \n",
    "    plt.ylabel('Частота')\n",
    "    plt.show()\n",
    "ex_1_16()"
   ]
  },
  {
   "cell_type": "markdown",
   "id": "38011943",
   "metadata": {},
   "source": [
    "Хотя величина среднего значения близкая к 0 или 1 не является невозможной, она является чрезвычайно невероятной и становится менее вероятной по мере роста числа усредненных чисел и числа выборочных средних. Фактически, на выходе получается результат очень близкий к нормальному распределению.\n",
    "\n",
    "Этот результат, когда средний эффект множества мелких случайных колебаний в итоге приводит к нормальному распределению, называется центральной предельной теоремой, иногда сокращенно ЦПТ, и играет важную роль для объяснения, почему нормальное распределение встречается так часто в природных явлениях."
   ]
  },
  {
   "cell_type": "markdown",
   "id": "bd569f7c",
   "metadata": {},
   "source": [
    "## Булочник и Пуанкаре"
   ]
  },
  {
   "cell_type": "markdown",
   "id": "019cfbbd",
   "metadata": {},
   "source": [
    "<blockquote>\n",
    "Существует легенда, почти наверняка апокрифическая, которая дает возможность детальнее рассмотреть вопрос о том, каким образом центральная предельная теорема позволяет рассуждать о принципе формирования статистических распределений. Она касается прославленного французского эрудита XIX-ого века Анри Пуанкаре, который, как гласит легенда, в течение одного года каждый день занимался тем, что взвешивал свежую буханку хлеба.\n",
    "\n",
    "В те времена хлебопекарное ремесло регламентировалось государством, и Пуанкаре обнаружил, что, хотя результаты взвешивания буханок хлеба подчинялись нормальному распределению, пик находился не на публично афишируемом 1 кг, а на 950 г. Он сообщил властям о булочнике, у которого он регулярно покупал хлеб, и тот был оштрафован. Такова легенда ;-).\n",
    "\n",
    "В следующем году Пуанкаре продолжил взвешивать буханки хлеба того же булочника. Он обнаружил, что среднее значение теперь было равно 1 кг, но это распределение больше не было симметричным вокруг среднего значения. Теперь оно было смещено вправо. А это соответствовало тому, что булочник теперь давал Пуанкаре только самые тяжелые из своих буханок хлеба. Пуанкаре снова сообщил о булочнике властям, и булочник был оштрафован во второй раз.\n",
    "\n",
    "Было ли это на самом деле или нет здесь не суть важно; этот пример всего лишь служит для того, чтобы проиллюстрировать ключевой момент — статистическое распределение последовательности чисел может сообщить нам нечто важное о процессе, который ее создал.\n",
    "</blockquote>"
   ]
  },
  {
   "cell_type": "markdown",
   "id": "603db5a2",
   "metadata": {},
   "source": [
    "### Генерирование распределений"
   ]
  },
  {
   "cell_type": "markdown",
   "id": "56d23235",
   "metadata": {},
   "source": [
    "В целях развития нашего интуитивного понимания относительно нормального распределения и дисперсии, давайте смоделируем честного и нечестного булочников, и для этого воспользуемся функцией генерирования нормально распределенных случайных величин stats.norm.rvs. (rvs от англ. normal variates, т.е. нормально-распределенные случайные величины). Честного булочника можно смоделировать в виде нормального распределения со средним значением 1000, что соответствует справедливой буханке хлеба весом 1 кг. При этом мы допустим наличие дисперсии в процессе выпекания, которая приводит к стандартному отклонению в 30г."
   ]
  },
  {
   "cell_type": "code",
   "execution_count": 53,
   "id": "06d57570",
   "metadata": {},
   "outputs": [
    {
     "data": {
      "image/png": "[encoded data removed]",
      "text/plain": [
       "<Figure size 432x288 with 1 Axes>"
      ]
     },
     "metadata": {
      "needs_background": "light"
     },
     "output_type": "display_data"
    }
   ],
   "source": [
    "pd.Series( stats.norm.rvs(1000, 30, size=10000) ).hist(bins=25)\n",
    "plt.xlabel('Честный булочник') \n",
    "plt.ylabel('Частота')             \n",
    "plt.show()"
   ]
  },
  {
   "cell_type": "markdown",
   "id": "cc406bd7",
   "metadata": {},
   "source": [
    "Теперь смоделируем булочника, который продает только самые тяжелые буханки хлеба. Мы разобьем последовательность на группы по тринадцать элементов (на «чертовы дюжины») и отберем максимальное значение в каждой:"
   ]
  },
  {
   "cell_type": "code",
   "execution_count": 56,
   "id": "d1419aca",
   "metadata": {},
   "outputs": [],
   "source": [
    "def dishonest_baker( loc, scale ):\n",
    "    '''Модель нечестного булочника'''\n",
    "    xs = stats.norm.rvs(loc, scale, size=10000) \n",
    "    return pd.Series( map(max, bootstrap(xs, 13)) )  # взять макс. в каждой подгруппе   "
   ]
  },
  {
   "cell_type": "code",
   "execution_count": 58,
   "id": "631e0da2",
   "metadata": {},
   "outputs": [
    {
     "data": {
      "image/png": "[encoded data removed]",
      "text/plain": [
       "<Figure size 432x288 with 1 Axes>"
      ]
     },
     "metadata": {
      "needs_background": "light"
     },
     "output_type": "display_data"
    }
   ],
   "source": [
    "def ex_1_19():\n",
    "    '''Смоделировать нечестного булочника на гистограмме'''\n",
    "    dishonest_baker(950, 30).hist(bins=25)\n",
    "    plt.xlabel('Нечестный булочник') \n",
    "    plt.ylabel('Частота')               \n",
    "    plt.show()\n",
    "\n",
    "ex_1_19()"
   ]
  }
 ],
 "metadata": {
  "kernelspec": {
   "display_name": "Python 3 (ipykernel)",
   "language": "python",
   "name": "python3"
  },
  "language_info": {
   "codemirror_mode": {
    "name": "ipython",
    "version": 3
   },
   "file_extension": ".py",
   "mimetype": "text/x-python",
   "name": "python",
   "nbconvert_exporter": "python",
   "pygments_lexer": "ipython3",
   "version": "3.9.12"
  }
 },
 "nbformat": 4,
 "nbformat_minor": 5
}
